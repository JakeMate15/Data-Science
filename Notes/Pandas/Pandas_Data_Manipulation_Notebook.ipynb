{
 "cells": [
  {
   "cell_type": "markdown",
   "id": "537aec14",
   "metadata": {},
   "source": [
    "# Chapter 1: DataFrames\n",
    "\n",
    "## Sorting and Subsetting\n",
    "\n",
    "Pandas allows sorting of data and creating subsets efficiently, which is crucial for data analysis and visualization."
   ]
  },
  {
   "cell_type": "code",
   "execution_count": null,
   "id": "7037cb7a",
   "metadata": {},
   "outputs": [],
   "source": [
    "import pandas as pd\n",
    "\n",
    "# Example DataFrame\n",
    "data = {\n",
    "    'name': ['Bella', 'Charlie', 'Lucy'],\n",
    "    'breed': ['Labrador', 'Poodle', 'Chow Chow'],\n",
    "    'weight_kg': [24, 23, 22]\n",
    "}\n",
    "dogs = pd.DataFrame(data)\n",
    "\n",
    "# Sorting by weight_kg\n",
    "sorted_dogs = dogs.sort_values('weight_kg')\n",
    "\n",
    "# Creating a subset where weight is greater than 22 kg\n",
    "subset_dogs = dogs[dogs['weight_kg'] > 22]\n",
    "\n",
    "print(sorted_dogs)\n",
    "print(subset_dogs)"
   ]
  },
  {
   "cell_type": "markdown",
   "id": "6025663f",
   "metadata": {},
   "source": [
    "## Creating New Columns\n",
    "\n",
    "Adding new columns is useful for extending DataFrames with calculated or derived data."
   ]
  },
  {
   "cell_type": "code",
   "execution_count": null,
   "id": "f486c234",
   "metadata": {},
   "outputs": [],
   "source": [
    "# Adding a new column for weight in pounds\n",
    "dogs['weight_lb'] = dogs['weight_kg'] * 2.20462\n",
    "\n",
    "print(dogs)"
   ]
  },
  {
   "cell_type": "markdown",
   "id": "33ddad09",
   "metadata": {},
   "source": [
    "## Exploring a DataFrame\n",
    "\n",
    "- `.head()`, `.info()`, `.describe()`: Methods to quickly view the DataFrame, column details, and descriptive statistics, respectively."
   ]
  },
  {
   "cell_type": "code",
   "execution_count": null,
   "id": "9d363511",
   "metadata": {},
   "outputs": [],
   "source": [
    "print(dogs.head())\n",
    "print(dogs.info())\n",
    "print(dogs.describe())"
   ]
  },
  {
   "cell_type": "markdown",
   "id": "3869f9e4",
   "metadata": {},
   "source": [
    "## Components of a DataFrame\n",
    "\n",
    "Understanding DataFrame components such as `.values`, `.columns`, and `.index` is crucial for data manipulation."
   ]
  },
  {
   "cell_type": "code",
   "execution_count": null,
   "id": "332a2bb2",
   "metadata": {},
   "outputs": [],
   "source": [
    "print(dogs.values)\n",
    "print(dogs.columns)\n",
    "print(dogs.index)"
   ]
  },
  {
   "cell_type": "markdown",
   "id": "97ac79cf",
   "metadata": {},
   "source": [
    "## Subsetting and Filtering\n",
    "\n",
    "Subsetting based on specific conditions allows for analysis of data segments."
   ]
  },
  {
   "cell_type": "code",
   "execution_count": null,
   "id": "55d501fd",
   "metadata": {},
   "outputs": [],
   "source": [
    "# Subset by Labrador breed\n",
    "labradors = dogs[dogs['breed'] == 'Labrador']\n",
    "\n",
    "# Subset using .isin() for multiple values\n",
    "colors = ['Black', 'Brown']\n",
    "subset_colors = dogs[dogs['color'].isin(colors)]\n",
    "\n",
    "print(labradors)\n",
    "print(subset_colors)"
   ]
  }
 ],
 "metadata": {},
 "nbformat": 4,
 "nbformat_minor": 5
}
