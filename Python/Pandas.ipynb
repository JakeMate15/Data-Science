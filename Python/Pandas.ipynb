{
 "cells": [
  {
   "cell_type": "markdown",
   "id": "c6fbbf85-04e7-41d2-af5b-900c8aec3afd",
   "metadata": {},
   "source": [
    "# Introducción a Pandas\n",
    "## ¿Qué es Pandas?\n",
    "Pandas es una biblioteca de Python que proporciona estructuras de datos y herramientas de análisis de datos. Es ampliamente utilizada en la ciencia de datos, estadísticas, y en campos relacionados para facilitar la manipulación y el análisis de grandes conjuntos de datos."
   ]
  },
  {
   "cell_type": "code",
   "execution_count": 1,
   "id": "f8efdf5d-5034-4c7a-8824-ea828b771759",
   "metadata": {},
   "outputs": [],
   "source": [
    "import pandas as pd"
   ]
  },
  {
   "cell_type": "markdown",
   "id": "685f2913-aa7a-48a4-9bc9-baae88dc144c",
   "metadata": {},
   "source": [
    "## Concepto de DataFrame\n",
    "Un DataFrame en Pandas es una estructura de datos bidimensional, como una hoja de cálculo, con columnas de diferentes tipos. Es similar a una tabla SQL o una hoja de datos en Excel. Los DataFrames permiten almacenar y manipular datos tabulados en filas y columnas.\n",
    "\n",
    "## Creación de un DataFrame a partir de un Diccionario\n",
    "Pandas permite crear DataFrames a partir de diccionarios de listas. Cada lista en el diccionario se convierte en una columna en el DataFrame. Aquí hay un ejemplo:"
   ]
  },
  {
   "cell_type": "code",
   "execution_count": 3,
   "id": "ee51021a-f25d-495e-a8fb-a6c45e86d9e3",
   "metadata": {},
   "outputs": [
    {
     "name": "stdout",
     "output_type": "stream",
     "text": [
      "         country  drives_right  cars_per_cap\n",
      "0  United States          True           809\n",
      "1      Australia         False           731\n",
      "2          Japan         False           588\n",
      "3          India         False            18\n",
      "4         Russia          True           200\n",
      "5        Morocco          True            70\n",
      "6          Egypt          True            45\n"
     ]
    }
   ],
   "source": [
    "# Listas predefinidas\n",
    "names = ['United States', 'Australia', 'Japan', 'India', 'Russia', 'Morocco', 'Egypt']\n",
    "dr =  [True, False, False, False, True, True, True]\n",
    "cpc = [809, 731, 588, 18, 200, 70, 45]\n",
    "\n",
    "# Importar pandas como pd\n",
    "import pandas as pd\n",
    "\n",
    "# Crear diccionario my_dict con tres pares clave:valor\n",
    "my_dict = { \n",
    "    'country': names, \n",
    "    'drives_right': dr,\n",
    "    'cars_per_cap': cpc,\n",
    "}\n",
    "\n",
    "# Construir un DataFrame cars a partir de my_dict\n",
    "cars = pd.DataFrame(my_dict)\n",
    "\n",
    "# Imprimir cars\n",
    "print(cars)\n"
   ]
  },
  {
   "cell_type": "markdown",
   "id": "0764ba4b-b855-4cba-a6bd-af89fac15105",
   "metadata": {},
   "source": [
    "# Asignación de Etiquetas a las Filas en un DataFrame\n",
    "\n",
    "Después de crear un DataFrame, puedes asignar etiquetas personalizadas a las filas. Esto es útil para hacer referencia a las filas por nombres más significativos en lugar de por índices numéricos. Aquí hay un ejemplo que continúa con el DataFrame cars:"
   ]
  },
  {
   "cell_type": "code",
   "execution_count": 4,
   "id": "c25ccd9e-fc45-426f-99e8-1fce1e7b079b",
   "metadata": {},
   "outputs": [
    {
     "name": "stdout",
     "output_type": "stream",
     "text": [
      "         country  drives_right  cars_per_cap\n",
      "0  United States          True           809\n",
      "1      Australia         False           731\n",
      "2          Japan         False           588\n",
      "3          India         False            18\n",
      "4         Russia          True           200\n",
      "5        Morocco          True            70\n",
      "6          Egypt          True            45\n",
      "           country  drives_right  cars_per_cap\n",
      "US   United States          True           809\n",
      "AUS      Australia         False           731\n",
      "JPN          Japan         False           588\n",
      "IN           India         False            18\n",
      "RU          Russia          True           200\n",
      "MOR        Morocco          True            70\n",
      "EG           Egypt          True            45\n"
     ]
    }
   ],
   "source": [
    "# Construir el DataFrame 'cars'\n",
    "names = ['United States', 'Australia', 'Japan', 'India', 'Russia', 'Morocco', 'Egypt']\n",
    "dr =  [True, False, False, False, True, True, True]\n",
    "cpc = [809, 731, 588, 18, 200, 70, 45]\n",
    "cars_dict = { 'country':names, 'drives_right':dr, 'cars_per_cap':cpc }\n",
    "cars = pd.DataFrame(cars_dict)\n",
    "print(cars)\n",
    "\n",
    "# Definición de 'row_labels'\n",
    "row_labels = ['US', 'AUS', 'JPN', 'IN', 'RU', 'MOR', 'EG']\n",
    "\n",
    "# Especificar las etiquetas de fila de 'cars'\n",
    "cars.index = row_labels\n",
    "\n",
    "# Imprimir 'cars' nuevamente\n",
    "print(cars)\n"
   ]
  },
  {
   "cell_type": "markdown",
   "id": "3b9f709c-d2d6-4e1e-a110-e4fa49c2e7e1",
   "metadata": {},
   "source": [
    "# Creación de un DataFrame a partir de un Archivo CSV"
   ]
  },
  {
   "cell_type": "code",
   "execution_count": 5,
   "id": "298ca842-3b93-452c-b58e-6b5360c45cb0",
   "metadata": {},
   "outputs": [
    {
     "name": "stdout",
     "output_type": "stream",
     "text": [
      "  Unnamed: 0  cars_per_cap        country  drives_right\n",
      "0         US           809  United States          True\n",
      "1        AUS           731      Australia         False\n",
      "2        JPN           588          Japan         False\n",
      "3         IN            18          India         False\n",
      "4         RU           200         Russia          True\n",
      "5        MOR            70        Morocco          True\n",
      "6         EG            45          Egypt          True\n"
     ]
    }
   ],
   "source": [
    "import pandas as pd\n",
    "\n",
    "# Importar el archivo CSV 'cars.csv' en un DataFrame\n",
    "cars = pd.read_csv('cars.csv')\n",
    "\n",
    "# Imprimir el DataFrame 'cars'\n",
    "print(cars)\n"
   ]
  },
  {
   "cell_type": "code",
   "execution_count": null,
   "id": "cc64603f-4169-4d04-8bf4-5fee263e8151",
   "metadata": {},
   "outputs": [],
   "source": [
    "#"
   ]
  }
 ],
 "metadata": {
  "kernelspec": {
   "display_name": "Python 3 (ipykernel)",
   "language": "python",
   "name": "python3"
  },
  "language_info": {
   "codemirror_mode": {
    "name": "ipython",
    "version": 3
   },
   "file_extension": ".py",
   "mimetype": "text/x-python",
   "name": "python",
   "nbconvert_exporter": "python",
   "pygments_lexer": "ipython3",
   "version": "3.10.12"
  }
 },
 "nbformat": 4,
 "nbformat_minor": 5
}
