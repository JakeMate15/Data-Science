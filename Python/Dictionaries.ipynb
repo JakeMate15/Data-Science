{
 "cells": [
  {
   "cell_type": "markdown",
   "id": "aefa4af6-4f7b-4354-af59-ae029b3fb1a5",
   "metadata": {},
   "source": [
    "# Trabajando con Diccionarios en Python\n",
    "\n",
    "## Creación de un Diccionario\n",
    "\n",
    "Los diccionarios en Python se utilizan para almacenar datos en pares clave-valor. A continuación se muestra cómo crear un diccionario:"
   ]
  },
  {
   "cell_type": "code",
   "execution_count": 2,
   "id": "df1a3058-999a-4e0a-89f7-1827ffdefbf5",
   "metadata": {},
   "outputs": [],
   "source": [
    "# Diccionario vacío\n",
    "dic_vacio = {}\n",
    "\n",
    "# Diccionario con elementos iniciales\n",
    "dic_con_elementos = {'nombre': 'Ana', 'edad': 30, 'ciudad': 'Madrid'}\n"
   ]
  },
  {
   "cell_type": "markdown",
   "id": "2eadece4-768e-474e-9283-2207b69b62e9",
   "metadata": {},
   "source": [
    "##  Acceso a Elementos de un Diccionario\n",
    "Para acceder a un elemento de un diccionario, se utiliza la clave correspondiente:"
   ]
  },
  {
   "cell_type": "code",
   "execution_count": 5,
   "id": "6d00a6ce-c434-4b19-940f-3acdfa59b6ab",
   "metadata": {},
   "outputs": [
    {
     "name": "stdout",
     "output_type": "stream",
     "text": [
      "Ana\n"
     ]
    }
   ],
   "source": [
    "# Acceso al elemento con la clave 'nombre'\n",
    "nombre = dic_con_elementos['nombre']\n",
    "print(nombre)\n",
    "\n",
    "# Nota: Si intentamos acceder a una clave que no existe, se producirá un error.\n",
    "# Por ejemplo:\n",
    "# elemento_inexistente = dic_con_elementos['profesión']\n"
   ]
  },
  {
   "cell_type": "markdown",
   "id": "78464b41-03db-4e47-a6eb-7dee10e451e3",
   "metadata": {},
   "source": [
    "## Uso del método .keys()\n",
    "El método **.keys()** se utiliza para obtener todas las claves del diccionario. Esto es útil para iterar sobre las claves:"
   ]
  },
  {
   "cell_type": "code",
   "execution_count": 6,
   "id": "924471be-88bb-4477-9f23-01083b5ee76c",
   "metadata": {},
   "outputs": [
    {
     "name": "stdout",
     "output_type": "stream",
     "text": [
      "La clave \"nombre\" tiene el valor: Ana\n",
      "La clave \"edad\" tiene el valor: 30\n",
      "La clave \"ciudad\" tiene el valor: Madrid\n"
     ]
    }
   ],
   "source": [
    "# Obtener las claves del diccionario\n",
    "claves = dic_con_elementos.keys()\n",
    "\n",
    "# Iterar sobre las claves\n",
    "for clave in claves:\n",
    "    print(f'La clave \"{clave}\" tiene el valor: {dic_con_elementos[clave]}')\n"
   ]
  },
  {
   "cell_type": "markdown",
   "id": "c203d814-d4ae-4b4c-baa6-369c596c33e2",
   "metadata": {},
   "source": [
    "# Verificación de la Existencia de una Clave\n",
    "Para verificar si una clave específica está presente en un diccionario, se puede usar la sintaxis **'clave' in diccionario**:"
   ]
  },
  {
   "cell_type": "code",
   "execution_count": 7,
   "id": "b363ad1b-06de-4d00-a801-4e737328ec76",
   "metadata": {},
   "outputs": [
    {
     "name": "stdout",
     "output_type": "stream",
     "text": [
      "¿'nombre' está en el diccionario? True\n"
     ]
    }
   ],
   "source": [
    "# Verificar si 'nombre' está en el diccionario\n",
    "existe_nombre = 'nombre' in dic_con_elementos\n",
    "print(f\"¿'nombre' está en el diccionario? {existe_nombre}\")\n"
   ]
  },
  {
   "cell_type": "markdown",
   "id": "d7374fd7-f94e-43f6-81c0-986dda4bfb66",
   "metadata": {},
   "source": [
    "# Eliminación de Elementos con del()\n",
    "Para eliminar un par clave-valor de un diccionario, se utiliza el comando **del()**"
   ]
  },
  {
   "cell_type": "code",
   "execution_count": 8,
   "id": "920345e2-39b1-47b9-9f63-154e25e87eb4",
   "metadata": {},
   "outputs": [
    {
     "name": "stdout",
     "output_type": "stream",
     "text": [
      "False\n"
     ]
    }
   ],
   "source": [
    "# Eliminar la clave 'edad' del diccionario\n",
    "del(dic_con_elementos['edad'])\n",
    "\n",
    "# Verificar si la clave 'edad' aún existe\n",
    "print('edad' in dic_con_elementos)\n"
   ]
  },
  {
   "cell_type": "markdown",
   "id": "e0ff203e-f474-42f4-8270-0ce221b60d16",
   "metadata": {},
   "source": [
    "# Diccionario de Diccionarios\n",
    "Los diccionarios en Python también pueden contener otros diccionarios, permitiendo una estructura de datos más compleja y anidada. Aquí se muestra un ejemplo con un diccionario de países europeos, donde cada país tiene su propio diccionario de información:"
   ]
  },
  {
   "cell_type": "code",
   "execution_count": 9,
   "id": "6bfce37e-576c-4a7a-a520-759e6d1f9a55",
   "metadata": {},
   "outputs": [
    {
     "name": "stdout",
     "output_type": "stream",
     "text": [
      "paris\n",
      "{'spain': {'capital': 'madrid', 'population': 46.77}, 'france': {'capital': 'paris', 'population': 66.03}, 'germany': {'capital': 'berlin', 'population': 80.62}, 'norway': {'capital': 'oslo', 'population': 5.084}, 'italy': {'capital': 'rome', 'population': 59.83}}\n"
     ]
    }
   ],
   "source": [
    "# Diccionario de diccionarios\n",
    "europe = { \n",
    "    'spain': { 'capital':'madrid', 'population':46.77 },\n",
    "    'france': { 'capital':'paris', 'population':66.03 },\n",
    "    'germany': { 'capital':'berlin', 'population':80.62 },\n",
    "    'norway': { 'capital':'oslo', 'population':5.084 } \n",
    "}\n",
    "\n",
    "# Imprimir la capital de Francia\n",
    "print(europe['france']['capital'])\n",
    "\n",
    "# Crear un sub-diccionario 'data'\n",
    "data = {'capital' : 'rome', 'population' : 59.83}\n",
    "\n",
    "# Añadir 'data' a 'europe' bajo la clave 'italy'\n",
    "europe['italy'] = data\n",
    "\n",
    "# Imprimir 'europe'\n",
    "print(europe)\n"
   ]
  },
  {
   "cell_type": "code",
   "execution_count": null,
   "id": "2f404090-7772-4b45-8d11-4e8d75d716b7",
   "metadata": {},
   "outputs": [],
   "source": []
  }
 ],
 "metadata": {
  "kernelspec": {
   "display_name": "Python 3 (ipykernel)",
   "language": "python",
   "name": "python3"
  },
  "language_info": {
   "codemirror_mode": {
    "name": "ipython",
    "version": 3
   },
   "file_extension": ".py",
   "mimetype": "text/x-python",
   "name": "python",
   "nbconvert_exporter": "python",
   "pygments_lexer": "ipython3",
   "version": "3.10.12"
  }
 },
 "nbformat": 4,
 "nbformat_minor": 5
}
