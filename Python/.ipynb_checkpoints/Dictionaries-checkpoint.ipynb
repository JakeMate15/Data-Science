{
 "cells": [
  {
   "cell_type": "markdown",
   "id": "aefa4af6-4f7b-4354-af59-ae029b3fb1a5",
   "metadata": {},
   "source": [
    "# Trabajando con Diccionarios en Python\n",
    "\n",
    "## Creación de un Diccionario\n",
    "\n",
    "Los diccionarios en Python se utilizan para almacenar datos en pares clave-valor. A continuación se muestra cómo crear un diccionario:"
   ]
  },
  {
   "cell_type": "code",
   "execution_count": 2,
   "id": "df1a3058-999a-4e0a-89f7-1827ffdefbf5",
   "metadata": {},
   "outputs": [],
   "source": [
    "# Diccionario vacío\n",
    "dic_vacio = {}\n",
    "\n",
    "# Diccionario con elementos iniciales\n",
    "dic_con_elementos = {'nombre': 'Ana', 'edad': 30, 'ciudad': 'Madrid'}\n"
   ]
  },
  {
   "cell_type": "markdown",
   "id": "2eadece4-768e-474e-9283-2207b69b62e9",
   "metadata": {},
   "source": [
    "##  Acceso a Elementos de un Diccionario\n",
    "Para acceder a un elemento de un diccionario, se utiliza la clave correspondiente:"
   ]
  },
  {
   "cell_type": "code",
   "execution_count": 5,
   "id": "6d00a6ce-c434-4b19-940f-3acdfa59b6ab",
   "metadata": {},
   "outputs": [
    {
     "name": "stdout",
     "output_type": "stream",
     "text": [
      "Ana\n"
     ]
    }
   ],
   "source": [
    "# Acceso al elemento con la clave 'nombre'\n",
    "nombre = dic_con_elementos['nombre']\n",
    "print(nombre)\n",
    "\n",
    "# Nota: Si intentamos acceder a una clave que no existe, se producirá un error.\n",
    "# Por ejemplo:\n",
    "# elemento_inexistente = dic_con_elementos['profesión']\n"
   ]
  },
  {
   "cell_type": "markdown",
   "id": "78464b41-03db-4e47-a6eb-7dee10e451e3",
   "metadata": {},
   "source": [
    "## Uso del método .keys()\n",
    "El método **.keys()** se utiliza para obtener todas las claves del diccionario. Esto es útil para iterar sobre las claves:"
   ]
  },
  {
   "cell_type": "code",
   "execution_count": 6,
   "id": "924471be-88bb-4477-9f23-01083b5ee76c",
   "metadata": {},
   "outputs": [
    {
     "name": "stdout",
     "output_type": "stream",
     "text": [
      "La clave \"nombre\" tiene el valor: Ana\n",
      "La clave \"edad\" tiene el valor: 30\n",
      "La clave \"ciudad\" tiene el valor: Madrid\n"
     ]
    }
   ],
   "source": [
    "# Obtener las claves del diccionario\n",
    "claves = dic_con_elementos.keys()\n",
    "\n",
    "# Iterar sobre las claves\n",
    "for clave in claves:\n",
    "    print(f'La clave \"{clave}\" tiene el valor: {dic_con_elementos[clave]}')\n"
   ]
  },
  {
   "cell_type": "code",
   "execution_count": null,
   "id": "3b0cc3a4-761e-44af-8a40-d20501a351fe",
   "metadata": {},
   "outputs": [],
   "source": []
  }
 ],
 "metadata": {
  "kernelspec": {
   "display_name": "Python 3 (ipykernel)",
   "language": "python",
   "name": "python3"
  },
  "language_info": {
   "codemirror_mode": {
    "name": "ipython",
    "version": 3
   },
   "file_extension": ".py",
   "mimetype": "text/x-python",
   "name": "python",
   "nbconvert_exporter": "python",
   "pygments_lexer": "ipython3",
   "version": "3.10.12"
  }
 },
 "nbformat": 4,
 "nbformat_minor": 5
}
